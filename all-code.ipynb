{
 "cells": [
  {
   "cell_type": "code",
   "execution_count": 1,
   "metadata": {},
   "outputs": [],
   "source": [
    "import cv2\n",
    "import os\n",
    "import math\n",
    "import numpy as np\n",
    "import matplotlib.pyplot as plt"
   ]
  },
  {
   "cell_type": "markdown",
   "metadata": {},
   "source": [
    "Get gray-scale image from DCP "
   ]
  },
  {
   "cell_type": "code",
   "execution_count": 2,
   "metadata": {},
   "outputs": [],
   "source": [
    "def DarkChannel(im,sz):\n",
    "    b,g,r = cv2.split(im)\n",
    "    dc = cv2.min(cv2.min(r,g),b)\n",
    "    #b,g,r = cv2.split(im) #分离图像的三个通道,注意通道的顺序是BGR:\n",
    "    #dc = cv2.min(cv2.min(r,g),b);\n",
    "    # 把rgb中最小的拿出来组成一个图像\n",
    "    kernel = cv2.getStructuringElement(cv2.MORPH_RECT,(sz,sz)) \n",
    "    #返回指定形状和尺寸的结构元素，MORPH_RECT矩形,腐蚀操作时所采用的结构类型\n",
    "    dark = cv2.erode(dc,kernel) \n",
    "    # 存在一个kernel，比如(3, 3)，在图像中不断的平移，在这个9方框中，哪一种颜色所占的比重大，\n",
    "    # 9个方格中将都是这种颜色\n",
    "    return dark"
   ]
  },
  {
   "cell_type": "code",
   "execution_count": 4,
   "metadata": {},
   "outputs": [],
   "source": [
    "def gray(file_pathname):\n",
    "    for filename in os.listdir(file_pathname):\n",
    "        #print(filename)\n",
    "        #fn = file_pathname+'/'+filename\n",
    "        if filename.startswith('.') and os.path.isfile(os.path.join(file_pathname, filename)):\n",
    "            os.listdir(file_pathname).remove(filename)\n",
    "        else:\n",
    "            img = cv2.imread(file_pathname+'/'+filename)\n",
    "            I = img.astype('float64')/255\n",
    "            gray = DarkChannel(I,15)\n",
    "        #gray = cv2.cvtColor(img,cv2.COLOR_BGR2GRAY)\n",
    "            cv2.imwrite('./gray'+'/'+filename,gray*255)\n",
    "gray(\"./images\")"
   ]
  },
  {
   "cell_type": "markdown",
   "metadata": {},
   "source": [
    "Cluster gray-scale images"
   ]
  },
  {
   "cell_type": "code",
   "execution_count": 15,
   "metadata": {},
   "outputs": [
    {
     "data": {
      "image/png": "[encoded data removed]",
      "text/plain": [
       "<Figure size 432x288 with 1 Axes>"
      ]
     },
     "metadata": {
      "needs_background": "light"
     },
     "output_type": "display_data"
    }
   ],
   "source": [
    "def cluster(file_pathname):\n",
    "    for filename in os.listdir(file_pathname):\n",
    "    #读取原始图像灰度颜色\n",
    "        if filename.startswith('.') and os.path.isfile(os.path.join(file_pathname, filename)):\n",
    "            os.listdir(file_pathname).remove(filename)\n",
    "        else:\n",
    "                img = cv2.imread(file_pathname+'/'+filename,0) \n",
    "        \n",
    "#print (img.shape)\n",
    "                rows, cols = img.shape[:]\n",
    "\n",
    "                data = img.reshape((rows * cols, 1))\n",
    "                data = np.float32(data)\n",
    "                criteria = (cv2.TERM_CRITERIA_EPS +cv2.TERM_CRITERIA_MAX_ITER, 10, 1.0)\n",
    "                flags = cv2.KMEANS_RANDOM_CENTERS\n",
    "                compactness, labels, centers = cv2.kmeans(data, 4, None, criteria, 10, flags)\n",
    "                dst = labels.reshape((img.shape[0], img.shape[1]))\n",
    "                plt.rcParams['font.sans-serif']=['SimHei']\n",
    "\n",
    "#plt.imshow(img,'gray')\n",
    "                plt.axis('off')  \n",
    "                plt.imshow(dst,'gray')\n",
    "                plt.savefig('./cluster-4'+'/'+filename,bbox_inches='tight',pad_inches=0)\n",
    "cluster('./gray')"
   ]
  },
  {
   "cell_type": "code",
   "execution_count": 11,
   "metadata": {},
   "outputs": [],
   "source": [
    "def zoom(img):\n",
    "    img[:1,:1,:] = 0\n",
    "    pt1 = (500,510)\n",
    "    pt2 = (1400,800)\n",
    "    patch = img[pt1[1]:pt2[1],pt1[0]:pt2[0],:]\n",
    "    patch = cv2.resize(patch, (pt2[0]-pt1[0], pt2[1]-pt1[1]))\n",
    "    return patch"
   ]
  },
  {
   "cell_type": "markdown",
   "metadata": {},
   "source": [
    "zoom & detect"
   ]
  },
  {
   "cell_type": "code",
   "execution_count": 12,
   "metadata": {},
   "outputs": [
    {
     "ename": "error",
     "evalue": "OpenCV(4.6.0) /Users/runner/work/opencv-python/opencv-python/opencv/modules/imgproc/src/resize.cpp:4052: error: (-215:Assertion failed) !ssize.empty() in function 'resize'\n",
     "output_type": "error",
     "traceback": [
      "\u001b[0;31m---------------------------------------------------------------------------\u001b[0m",
      "\u001b[0;31merror\u001b[0m                                     Traceback (most recent call last)",
      "\u001b[0;32m/var/folders/q4/fdk61_jd2sdf63289llxz4yw0000gn/T/ipykernel_15079/1409292665.py\u001b[0m in \u001b[0;36m<module>\u001b[0;34m\u001b[0m\n\u001b[1;32m     30\u001b[0m \u001b[0;34m\u001b[0m\u001b[0m\n\u001b[1;32m     31\u001b[0m \u001b[0;34m\u001b[0m\u001b[0m\n\u001b[0;32m---> 32\u001b[0;31m \u001b[0mdetect\u001b[0m\u001b[0;34m(\u001b[0m\u001b[0;34m'./gray'\u001b[0m\u001b[0;34m)\u001b[0m\u001b[0;34m\u001b[0m\u001b[0;34m\u001b[0m\u001b[0m\n\u001b[0m",
      "\u001b[0;32m/var/folders/q4/fdk61_jd2sdf63289llxz4yw0000gn/T/ipykernel_15079/1409292665.py\u001b[0m in \u001b[0;36mdetect\u001b[0;34m(file_pathname)\u001b[0m\n\u001b[1;32m     24\u001b[0m                     \u001b[0;31m#org = cv2.resize(org, (sp[1],sp[0]))\u001b[0m\u001b[0;34m\u001b[0m\u001b[0;34m\u001b[0m\u001b[0;34m\u001b[0m\u001b[0m\n\u001b[1;32m     25\u001b[0m                     \u001b[0;31m#patch2 = org\u001b[0m\u001b[0;34m\u001b[0m\u001b[0;34m\u001b[0m\u001b[0;34m\u001b[0m\u001b[0m\n\u001b[0;32m---> 26\u001b[0;31m                     \u001b[0mpatch2\u001b[0m \u001b[0;34m=\u001b[0m \u001b[0mzoom\u001b[0m\u001b[0;34m(\u001b[0m\u001b[0morg\u001b[0m\u001b[0;34m)\u001b[0m\u001b[0;34m\u001b[0m\u001b[0;34m\u001b[0m\u001b[0m\n\u001b[0m\u001b[1;32m     27\u001b[0m                     \u001b[0;31m#box_in_org(patch2,contours,filename)\u001b[0m\u001b[0;34m\u001b[0m\u001b[0;34m\u001b[0m\u001b[0;34m\u001b[0m\u001b[0m\n\u001b[1;32m     28\u001b[0m                     \u001b[0mbox_opt\u001b[0m\u001b[0;34m(\u001b[0m\u001b[0mpatch2\u001b[0m\u001b[0;34m,\u001b[0m\u001b[0mcontours\u001b[0m\u001b[0;34m,\u001b[0m\u001b[0mfilename\u001b[0m\u001b[0;34m)\u001b[0m\u001b[0;34m\u001b[0m\u001b[0;34m\u001b[0m\u001b[0m\n",
      "\u001b[0;32m/var/folders/q4/fdk61_jd2sdf63289llxz4yw0000gn/T/ipykernel_15079/805399316.py\u001b[0m in \u001b[0;36mzoom\u001b[0;34m(img)\u001b[0m\n\u001b[1;32m      4\u001b[0m     \u001b[0mpt2\u001b[0m \u001b[0;34m=\u001b[0m \u001b[0;34m(\u001b[0m\u001b[0;36m1400\u001b[0m\u001b[0;34m,\u001b[0m\u001b[0;36m800\u001b[0m\u001b[0;34m)\u001b[0m\u001b[0;34m\u001b[0m\u001b[0;34m\u001b[0m\u001b[0m\n\u001b[1;32m      5\u001b[0m     \u001b[0mpatch\u001b[0m \u001b[0;34m=\u001b[0m \u001b[0mimg\u001b[0m\u001b[0;34m[\u001b[0m\u001b[0mpt1\u001b[0m\u001b[0;34m[\u001b[0m\u001b[0;36m1\u001b[0m\u001b[0;34m]\u001b[0m\u001b[0;34m:\u001b[0m\u001b[0mpt2\u001b[0m\u001b[0;34m[\u001b[0m\u001b[0;36m1\u001b[0m\u001b[0;34m]\u001b[0m\u001b[0;34m,\u001b[0m\u001b[0mpt1\u001b[0m\u001b[0;34m[\u001b[0m\u001b[0;36m0\u001b[0m\u001b[0;34m]\u001b[0m\u001b[0;34m:\u001b[0m\u001b[0mpt2\u001b[0m\u001b[0;34m[\u001b[0m\u001b[0;36m0\u001b[0m\u001b[0;34m]\u001b[0m\u001b[0;34m,\u001b[0m\u001b[0;34m:\u001b[0m\u001b[0;34m]\u001b[0m\u001b[0;34m\u001b[0m\u001b[0;34m\u001b[0m\u001b[0m\n\u001b[0;32m----> 6\u001b[0;31m     \u001b[0mpatch\u001b[0m \u001b[0;34m=\u001b[0m \u001b[0mcv2\u001b[0m\u001b[0;34m.\u001b[0m\u001b[0mresize\u001b[0m\u001b[0;34m(\u001b[0m\u001b[0mpatch\u001b[0m\u001b[0;34m,\u001b[0m \u001b[0;34m(\u001b[0m\u001b[0mpt2\u001b[0m\u001b[0;34m[\u001b[0m\u001b[0;36m0\u001b[0m\u001b[0;34m]\u001b[0m\u001b[0;34m-\u001b[0m\u001b[0mpt1\u001b[0m\u001b[0;34m[\u001b[0m\u001b[0;36m0\u001b[0m\u001b[0;34m]\u001b[0m\u001b[0;34m,\u001b[0m \u001b[0mpt2\u001b[0m\u001b[0;34m[\u001b[0m\u001b[0;36m1\u001b[0m\u001b[0;34m]\u001b[0m\u001b[0;34m-\u001b[0m\u001b[0mpt1\u001b[0m\u001b[0;34m[\u001b[0m\u001b[0;36m1\u001b[0m\u001b[0;34m]\u001b[0m\u001b[0;34m)\u001b[0m\u001b[0;34m)\u001b[0m\u001b[0;34m\u001b[0m\u001b[0;34m\u001b[0m\u001b[0m\n\u001b[0m\u001b[1;32m      7\u001b[0m     \u001b[0;32mreturn\u001b[0m \u001b[0mpatch\u001b[0m\u001b[0;34m\u001b[0m\u001b[0;34m\u001b[0m\u001b[0m\n",
      "\u001b[0;31merror\u001b[0m: OpenCV(4.6.0) /Users/runner/work/opencv-python/opencv-python/opencv/modules/imgproc/src/resize.cpp:4052: error: (-215:Assertion failed) !ssize.empty() in function 'resize'\n"
     ]
    }
   ],
   "source": [
    "def detect(file_pathname):\n",
    "    for filename in os.listdir(file_pathname):\n",
    "        if filename.startswith('.') and os.path.isfile(os.path.join(file_pathname, filename)):\n",
    "            os.listdir(file_pathname).remove(filename)\n",
    "        else:\n",
    "            img = cv2.imread(file_pathname+'/'+filename)\n",
    "            img = cv2.resize(img, (1920,1020))\n",
    "            #patch = img\n",
    "            patch = zoom(img)\n",
    "\n",
    "            gray = cv2.cvtColor(patch, cv2.COLOR_BGR2GRAY)\n",
    "            gray = 255 - gray\n",
    "            ret, binary = cv2.threshold(gray,127,255,cv2.THRESH_BINARY)  \n",
    "            contours, hierarchy = cv2.findContours(binary,cv2.RETR_TREE,cv2.CHAIN_APPROX_SIMPLE)\n",
    "            cv2.drawContours(patch,contours[1:],-1,(0,0,255),2)\n",
    "            box_in_gray(patch,contours,filename)\n",
    "            \n",
    "            for orgname in os.listdir('./images'):\n",
    "                if orgname.startswith('.') and os.path.isfile(os.path.join('./images', orgname)):\n",
    "                    os.listdir('./images').remove(orgname)\n",
    "                elif orgname == filename:\n",
    "                    org = cv2.imread('./images/'+orgname)\n",
    "                    sp = img.shape\n",
    "                    #org = cv2.resize(org, (sp[1],sp[0]))\n",
    "                    #patch2 = org\n",
    "                    patch2 = zoom(org)\n",
    "                    #box_in_org(patch2,contours,filename)\n",
    "                    box_opt(patch2,contours,filename)\n",
    "\n",
    "                    \n",
    "\n",
    "detect('./gray')"
   ]
  },
  {
   "cell_type": "code",
   "execution_count": 2,
   "metadata": {},
   "outputs": [],
   "source": [
    "# draw box\n",
    "def box_in_gray(img,contours,filename):\n",
    "    for i in range(len(contours)):\n",
    "        w = []\n",
    "        h = []\n",
    "        for j in range (0, len(contours[i])):\n",
    "            w.append(contours[i][j][0][0])\n",
    "            h.append(contours[i][j][0][1])\n",
    "        l = min(w)\n",
    "        r = max(w)\n",
    "        u = min(h)\n",
    "        d = max(h)\n",
    "        pt1 = (l,u)\n",
    "        pt2 = (r,d)\n",
    "        cv2.rectangle(img, pt1, pt2, (255, 0, 0), 2)\n",
    "        #cv2.imwrite('./graybox'+'/'+filename,img)\n",
    "        cv2.imwrite('./graybox2'+'/'+filename,img)\n"
   ]
  },
  {
   "cell_type": "code",
   "execution_count": 8,
   "metadata": {},
   "outputs": [],
   "source": [
    "# draw box\n",
    "def box_in_org(img,contours,filename):\n",
    "    for i in range(len(contours)):\n",
    "        w = []\n",
    "        h = []\n",
    "        for j in range (0, len(contours[i])):\n",
    "            w.append(contours[i][j][0][0])\n",
    "            h.append(contours[i][j][0][1])\n",
    "        l = min(w)\n",
    "        r = max(w)\n",
    "        u = min(h)\n",
    "        d = max(h)\n",
    "        pt1 = (l,u)\n",
    "        pt2 = (r,d)\n",
    "        cv2.rectangle(img, pt1, pt2, (255, 0, 0), 2)\n",
    "        cv2.imwrite('./org_zoom'+'/'+filename,img)\n"
   ]
  },
  {
   "cell_type": "code",
   "execution_count": 3,
   "metadata": {},
   "outputs": [],
   "source": [
    "# draw box\n",
    "def box_opt(img,contours,filename):\n",
    "    for i in range(len(contours)):\n",
    "        w = []\n",
    "        h = []\n",
    "        for j in range (0, len(contours[i])):\n",
    "            w.append(contours[i][j][0][0])\n",
    "            h.append(contours[i][j][0][1])\n",
    "        l = min(w)\n",
    "        r = max(w)\n",
    "        u = min(h)\n",
    "        d = max(h)\n",
    "        pt1 = (l,u)\n",
    "        pt2 = (r,d)\n",
    "        s = (abs(l-r))*(abs(u-d))\n",
    "        #if 1000<s:\n",
    "        cv2.rectangle(img, pt1, pt2, (255, 0, 0), 2)\n",
    "        #cv2.imwrite('./opt'+'/'+filename,img)\n",
    "        cv2.imwrite('./opt2'+'/'+filename,img)\n"
   ]
  },
  {
   "cell_type": "code",
   "execution_count": 10,
   "metadata": {},
   "outputs": [],
   "source": [
    "def put(file_pathname):\n",
    "    for filename in os.listdir(file_pathname):\n",
    "        if filename.startswith('.') and os.path.isfile(os.path.join(file_pathname, filename)):\n",
    "            os.listdir(file_pathname).remove(filename)\n",
    "            #img = cv2.imread(file_pathname+'/'+filename)\n",
    "        for orgname in os.listdir('./images'):\n",
    "            if orgname.startswith('.') and os.path.isfile(os.path.join('./images', orgname)):\n",
    "                os.listdir('./images').remove(orgname)\n",
    "            elif orgname == filename:\n",
    "                img = cv2.imread(file_pathname+'/'+filename)\n",
    "                org = cv2.imread('./images/'+orgname)\n",
    "                org[510:800,500:1400] = img\n",
    "                cv2.imwrite('./re/'+filename, org)\n",
    "               \n",
    "\n",
    "put('./org_zoom')"
   ]
  }
 ],
 "metadata": {
  "kernelspec": {
   "display_name": "Python 3.9.1 64-bit",
   "language": "python",
   "name": "python3"
  },
  "language_info": {
   "codemirror_mode": {
    "name": "ipython",
    "version": 3
   },
   "file_extension": ".py",
   "mimetype": "text/x-python",
   "name": "python",
   "nbconvert_exporter": "python",
   "pygments_lexer": "ipython3",
   "version": "3.9.1"
  },
  "orig_nbformat": 4,
  "vscode": {
   "interpreter": {
    "hash": "aee8b7b246df8f9039afb4144a1f6fd8d2ca17a180786b69acc140d282b71a49"
   }
  }
 },
 "nbformat": 4,
 "nbformat_minor": 2
}
